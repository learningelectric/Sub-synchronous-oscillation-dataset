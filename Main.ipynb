{
 "cells": [
  {
   "cell_type": "code",
   "execution_count": 2,
   "id": "27f1a2b8-c1c0-49ea-b181-f7b6b0a576a7",
   "metadata": {
    "ExecuteTime": {
     "end_time": "2025-09-06T06:32:45.607302Z",
     "start_time": "2025-09-06T06:32:41.544398Z"
    }
   },
   "outputs": [],
   "source": [
    "import numpy as np\n",
    "from sklearn.model_selection import train_test_split\n",
    "from sklearn.metrics import confusion_matrix, precision_score, recall_score, f1_score\n",
    "import torch, time, wandb, os, ssl\n",
    "import torch.nn as nn\n",
    "import torch.optim as optim\n",
    "from torch.utils.data import TensorDataset, DataLoader\n",
    "from tqdm import tqdm\n",
    "import seaborn as sns\n",
    "import matplotlib.pyplot as plt\n",
    "import warnings\n",
    "import random"
   ]
  },
  {
   "cell_type": "code",
   "execution_count": 3,
   "id": "816140b8-ac2c-41f8-9ed7-7eab27a45651",
   "metadata": {
    "ExecuteTime": {
     "end_time": "2025-09-06T06:32:45.620912Z",
     "start_time": "2025-09-06T06:32:45.614821Z"
    }
   },
   "outputs": [],
   "source": [
    "class CNN(nn.Module):\n",
    "    def __init__(self, input_channels=1, height=1000, width=8, output_units=10, conv_layers_config=None,\n",
    "                 num_fc_layers=2, hidden_units=128, kernel_size=(3, 3), pool_size=(2, 2), nonlin=nn.ReLU,\n",
    "                 dropout_rate=0.2, stride=1, padding=2):\n",
    "        super(CNN, self).__init__()\n",
    "\n",
    "        if conv_layers_config is None:\n",
    "            conv_layers_config = [16, 64, 16]\n",
    "        self.conv_layers_config = conv_layers_config\n",
    "        self.num_fc_layers = num_fc_layers\n",
    "        self.conv_layers = nn.ModuleList()\n",
    "        current_channels = input_channels\n",
    "        for out_channels in conv_layers_config:\n",
    "            self.conv_layers.append(nn.Conv2d(current_channels, out_channels, kernel_size, stride=stride, padding=padding))\n",
    "            self.conv_layers.append(nn.BatchNorm2d(out_channels))\n",
    "            self.conv_layers.append(nonlin())\n",
    "            self.conv_layers.append(nn.MaxPool2d(pool_size))\n",
    "            self.conv_layers.append(nn.Dropout(dropout_rate))\n",
    "            current_channels = out_channels\n",
    "        self.num_features = self._calculate_num_features(input_channels, height, width)\n",
    "\n",
    "        self.fc_layers = nn.ModuleList()\n",
    "        current_units = self.num_features\n",
    "        for i in range(num_fc_layers - 1):\n",
    "            self.fc_layers.append(nn.Linear(current_units, hidden_units))\n",
    "            self.fc_layers.append(nonlin())\n",
    "            self.fc_layers.append(nn.Dropout(dropout_rate))\n",
    "            current_units = hidden_units\n",
    "        self.fc_layers.append(nn.Linear(current_units, output_units))  # Fixed this line\n",
    "\n",
    "    def _calculate_num_features(self, channels, height, width):\n",
    "        with torch.no_grad():\n",
    "            x = torch.zeros(1, channels, height, width)\n",
    "            for layer in self.conv_layers:\n",
    "                x = layer(x)\n",
    "            return x.numel()\n",
    "\n",
    "    def forward(self, x):\n",
    "        for layer in self.conv_layers:\n",
    "            x = layer(x)\n",
    "        x = x.view(x.size(0), -1)\n",
    "        for layer in self.fc_layers:\n",
    "            x = layer(x)\n",
    "        return x"
   ]
  },
  {
   "cell_type": "code",
   "execution_count": 4,
   "id": "03b2f983-6c0f-439b-abc6-ff9407ee2f13",
   "metadata": {
    "ExecuteTime": {
     "end_time": "2025-09-06T06:32:45.632166Z",
     "start_time": "2025-09-06T06:32:45.626076Z"
    }
   },
   "outputs": [],
   "source": [
    "class Trainer:\n",
    "    def __init__(self, model, device, train_loader, val_loader, optimizer, scheduler, criterion):\n",
    "        # Initialize the Trainer class with model, device, data loaders, optimizer, scheduler, and loss function\n",
    "        self.model = model  # Neural network model to be trained and validated\n",
    "        self.device = device  # Device on which the model will be trained (e.g., 'cuda' or 'cpu')\n",
    "        self.train_loader = train_loader  # DataLoader for the training dataset\n",
    "        self.val_loader = val_loader  # DataLoader for the validation dataset\n",
    "        self.optimizer = optimizer  # Optimizer for adjusting model parameters\n",
    "        self.scheduler = scheduler  # Learning rate scheduler for the optimizer\n",
    "        self.criterion = criterion  # Loss function to measure model performance\n",
    "\n",
    "    def train_epoch(self):\n",
    "        # Train the model for one epoch and return the average loss and accuracy\n",
    "        self.model.train()  # Set the model to training mode\n",
    "        total_loss, total_accuracy = 0, 0  # Initialize accumulators for loss and accuracy\n",
    "        for images, labels in self.train_loader:\n",
    "            # Reshape images and move images and labels to the specified device\n",
    "            images, labels = images.to(self.device), labels.to(self.device)\n",
    "            self.optimizer.zero_grad()  # Clear previous gradients\n",
    "            output = self.model(images)  # Forward pass through the model\n",
    "            loss = self.criterion(output, labels)  # Compute loss between model output and true labels\n",
    "            loss.backward()  # Backpropagate the loss to compute gradients\n",
    "            self.optimizer.step()  # Update model parameters\n",
    "            # Calculate accuracy by comparing predicted and true labels\n",
    "            accuracy = (output.argmax(dim=1) == labels).float().mean().item()\n",
    "            # Accumulate total loss and accuracy\n",
    "            total_loss += loss.item()\n",
    "            total_accuracy += accuracy\n",
    "        # Return average loss and accuracy for the epoch\n",
    "        return total_loss / len(self.train_loader), total_accuracy / len(self.train_loader)\n",
    "\n",
    "    def validate_epoch(self):\n",
    "        # Validate the model for one epoch and return the average loss, accuracy, precision, recall, and F1 score\n",
    "        self.model.eval()  # Set the model to evaluation mode\n",
    "        val_loss, val_accuracy = 0, 0  # Initialize accumulators for validation loss and accuracy\n",
    "        all_preds = []  # List to store all predictions\n",
    "        all_labels = []  # List to store all true labels\n",
    "        with torch.no_grad():  # Disable gradient computation\n",
    "            for images, labels in self.val_loader:\n",
    "                # Reshape images and move images and labels to the specified device\n",
    "                images, labels = images.to(self.device), labels.to(self.device)\n",
    "                output = self.model(images)  # Forward pass through the model\n",
    "                # Accumulate validation loss and accuracy\n",
    "                val_loss += self.criterion(output, labels).item()\n",
    "                val_accuracy += (output.argmax(dim=1) == labels).float().mean().item()\n",
    "                all_preds.extend(output.argmax(dim=1).cpu().numpy())\n",
    "                all_labels.extend(labels.cpu().numpy())\n",
    "    \n",
    "        cm = confusion_matrix(all_labels, all_preds)\n",
    "        # Calculate precision, recall, and F1 score\n",
    "        precision = precision_score(all_labels, all_preds, average='weighted',zero_division=0)\n",
    "        recall = recall_score(all_labels, all_preds, average='weighted')\n",
    "        f1 = f1_score(all_labels, all_preds, average='weighted')\n",
    "        \n",
    "        # Return average validation loss, accuracy, precision, recall, F1, and confusion matrix for the epoch\n",
    "        return (val_loss / len(self.val_loader), \n",
    "                val_accuracy / len(self.val_loader), \n",
    "                precision, \n",
    "                recall, \n",
    "                f1, \n",
    "                cm)\n",
    "    \n",
    "    def fit(self, epochs):\n",
    "        # Train and validate the model over multiple epochs\n",
    "        train_accuracies, val_accuracies = [], []  # Lists to store accuracies for each epoch\n",
    "        pbar = tqdm(range(epochs), desc=\"Epoch Progress\")  # Progress bar to track training progress\n",
    "        for epoch in pbar:\n",
    "            # Train and validate for one epoch\n",
    "            train_loss, train_accuracy = self.train_epoch()\n",
    "            val_loss, val_accuracy, precision, recall, f1, cm = self.validate_epoch()\n",
    "    \n",
    "            # Log metrics to Weights & Biases, including the confusion matrix as an image\n",
    "            wandb.log({\n",
    "                \"Train Loss\": train_loss,\n",
    "                \"Train Accuracy\": train_accuracy,\n",
    "                \"Validation Loss\": val_loss,\n",
    "                \"Validation Accuracy\": val_accuracy*100,\n",
    "                \"Validation Precision\": precision*100,\n",
    "                \"Validation Recall\": recall*100,\n",
    "                \"Validation F1 Score\": f1*100,\n",
    "                \"Confusion Matrix\": wandb.Image(cm)  # Log the confusion matrix as an image\n",
    "            })\n",
    "            # Update progress bar with current epoch loss and accuracy\n",
    "            pbar.set_description(f\"Epoch {epoch+1} | Train Loss: {train_loss:.4f} | Val Accuracy: {val_accuracy:.2f} | Val Precision: {precision:.2f} | Val Recall: {recall:.2f} | Val F1: {f1:.2f}\")\n",
    "            self.scheduler.step()  # Update learning rate based on the scheduler\n",
    "            \n",
    "            # Store train and validation accuracies\n",
    "            train_accuracies.append(train_accuracy)\n",
    "            val_accuracies.append(val_accuracy)\n",
    "        Performance_metrics = [val_accuracy*100,precision*100,recall*100,f1*100]\n",
    "        return train_accuracies, val_accuracies, Performance_metrics, cm  # Return confusion matrix as well"
   ]
  },
  {
   "cell_type": "code",
   "execution_count": 5,
   "id": "70a7dc79-5cc8-4ab8-92ab-9490b5f56540",
   "metadata": {
    "ExecuteTime": {
     "end_time": "2025-09-06T06:32:45.640914Z",
     "start_time": "2025-09-06T06:32:45.635612Z"
    }
   },
   "outputs": [],
   "source": [
    "def plot_confusion_matrix(cm, class_names, file_name=None):\n",
    "    plt.figure(figsize=(9, 9))  # Set size appropriate for IEEE papers\n",
    "    sns.heatmap(cm, annot=True, fmt='d', cmap='viridis_r',  # Use 'Greys' but can add options like 'viridis', for color\n",
    "                xticklabels=class_names, yticklabels=class_names, \n",
    "                cbar=False)  # Disable color bar for a simpler look\n",
    "    \n",
    "    # Setting titles and labels with appropriate size\n",
    "    plt.title('Confusion Matrix', fontsize=10)\n",
    "    plt.xlabel('Predicted Labels', fontsize=10)\n",
    "    plt.ylabel('True Labels', fontsize=10)\n",
    "    \n",
    "    # Ticks customization \n",
    "    plt.xticks(rotation=45, fontsize=10)\n",
    "    plt.yticks(rotation=0, fontsize=10)\n",
    "    \n",
    "    # Tight layout for better space management\n",
    "    plt.tight_layout()\n",
    "    \n",
    "    # If a file name is provided, save the figure\n",
    "    if file_name:\n",
    "        plt.savefig(file_name, dpi=300, bbox_inches='tight', format='png')  # Specify the format as needed\n",
    "    plt.show()\n",
    "\n",
    "def awgn(sig, req_snr, sig_power='measured', random_state=None, power_type='db'):\n",
    "    sig = np.asarray(sig)\n",
    "    if sig_power == 'measured':\n",
    "        sig_power = np.mean(np.abs(sig) ** 2)\n",
    "    if power_type == 'db':\n",
    "        sig_power = 10 ** (sig_power / 10)\n",
    "        req_snr = 10 ** (np.asarray(req_snr) / 10)\n",
    "    noise_power = sig_power / req_snr\n",
    "    if random_state is not None:\n",
    "        np.random.seed(random_state)\n",
    "    noise = np.sqrt(noise_power) * np.random.randn(*sig.shape)\n",
    "    noisy_signal = sig + noise\n",
    "    return noisy_signal, noise_power\n",
    "\n",
    "def set_seed(seed=42):\n",
    "    random.seed(seed)\n",
    "    np.random.seed(seed)\n",
    "    torch.manual_seed(seed)\n",
    "    if torch.cuda.is_available():\n",
    "        torch.cuda.manual_seed(seed)\n",
    "        torch.cuda.manual_seed_all(seed)\n",
    "    torch.backends.cudnn.deterministic = True\n",
    "    torch.backends.cudnn.benchmark = False"
   ]
  },
  {
   "cell_type": "code",
   "execution_count": 6,
   "id": "b1fc03e5-15e5-473d-a176-11c203d15626",
   "metadata": {
    "ExecuteTime": {
     "end_time": "2025-09-06T06:32:45.652974Z",
     "start_time": "2025-09-06T06:32:45.645165Z"
    }
   },
   "outputs": [],
   "source": [
    "def train_and_validate(epochs=15, batch_size=64, lr=1e-4, test_size=0.2, Oscillation_mechanism_flag = \"01\", noisy_flag = True, desired_snr_db = 40, plot_confusion = True):\n",
    "    # Fixing SSL error \n",
    "    ssl._create_default_https_context = ssl._create_unverified_context\n",
    "\n",
    "    # Define the model type and other relevant information\n",
    "    model_type = \"CNN\"\n",
    "    # Format the name by combining the model type with the timestamp\n",
    "    run_name = f\"{model_type}_{time.strftime('%Y%m%d%H%M%S')}\"\n",
    "    # Initialize the W&B run with the combined name\n",
    "    # wandb.init(project=\"OS_location_CNN\", name=run_name)\n",
    "    wandb.init(mode=\"offline\")\n",
    "    # wandb.init(mode=\"online\")\n",
    "    # Function to train, validate, quantize the model, and evaluate the quantized model\n",
    "    random_seed = 29\n",
    "    set_seed(random_seed)\n",
    "    # Negative resistance mechanism\n",
    "    npz_path1 = r\"Datasets\\Dataset_1.npz\"\n",
    "    data111 = np.load(npz_path1)\n",
    "    # Define 'X' and 'y' are the dataset features and labels\n",
    "    X1 = data111[\"X_data\"]\n",
    "    y1 = data111[\"Y_data\"].flatten()\n",
    "    y1 = data111[\"Y_data\"].flatten()\n",
    "    y_classnums = np.unique(y1).size\n",
    "    X_train, X_val, y_train, y_val = train_test_split(X1, y1, test_size=test_size, random_state=random_seed)\n",
    "    if noisy_flag == True:\n",
    "        X_val, _ = awgn(X_val, desired_snr_db)\n",
    "    X_train = torch.from_numpy(X_train).float()\n",
    "    y_train = torch.from_numpy(y_train).long()\n",
    "    X_val = torch.from_numpy(X_val).float()\n",
    "    y_val = torch.from_numpy(y_val).long()\n",
    "    trainset1 = TensorDataset(X_train, y_train)\n",
    "    valset1 = TensorDataset(X_val, y_val)\n",
    "    trainloader1 = DataLoader(trainset1, batch_size=batch_size, shuffle=True)\n",
    "    valloader1 = DataLoader(valset1, batch_size=batch_size, shuffle=False)\n",
    "    # Modal resonance mechanism\n",
    "    npz_path2 = r\"Datasets\\Dataset_2.npz\"\n",
    "    data222 = np.load(npz_path2)\n",
    "    X2 = data222[\"X_data\"]\n",
    "    y2 = data222[\"Y_data\"].flatten()\n",
    "    y_classnums = np.unique(y2).size\n",
    "    X_train, X_val, y_train, y_val = train_test_split(X2, y2, test_size=test_size, random_state=random_seed)\n",
    "    if noisy_flag == True:\n",
    "        X_val, _ = awgn(X_val, desired_snr_db)\n",
    "    X_train = torch.from_numpy(X_train).float()\n",
    "    y_train = torch.from_numpy(y_train).long()\n",
    "    X_val = torch.from_numpy(X_val).float()\n",
    "    y_val = torch.from_numpy(y_val).long()\n",
    "    trainset2 = TensorDataset(X_train, y_train)\n",
    "    valset2 = TensorDataset(X_val, y_val)\n",
    "    trainloader2 = DataLoader(trainset2, batch_size=batch_size, shuffle=True)\n",
    "    valloader2 = DataLoader(valset2, batch_size=batch_size, shuffle=False)\n",
    "    # Both mechanisms\n",
    "    npz_path = r\"Datasets\\Dataset_1and_2.npz\"\n",
    "    data = np.load(npz_path)\n",
    "    X = data[\"X_data\"]\n",
    "    y = data[\"Y_data\"].flatten()\n",
    "    y_classnums = np.unique(y).size\n",
    "    X_train, X_val, y_train, y_val = train_test_split(X, y, test_size=test_size, random_state=random_seed)\n",
    "    if noisy_flag == True:\n",
    "        X_val, _ = awgn(X_val, desired_snr_db)\n",
    "    X_train = torch.from_numpy(X_train).float()\n",
    "    y_train = torch.from_numpy(y_train).long()\n",
    "    X_val = torch.from_numpy(X_val).float()\n",
    "    y_val = torch.from_numpy(y_val).long()\n",
    "    trainset = TensorDataset(X_train, y_train)\n",
    "    valset = TensorDataset(X_val, y_val)\n",
    "    trainloader = DataLoader(trainset, batch_size=batch_size, shuffle=True)\n",
    "    valloader = DataLoader(valset, batch_size=batch_size, shuffle=False)\n",
    "\n",
    "    # Initialize the CNN model with specified layer sizes\n",
    "    conv_layers_config = [16, 64, 128, 64, 16]\n",
    "    model = CNN(input_channels=1, height=20, width=120, output_units=y_classnums, conv_layers_config=conv_layers_config,\n",
    "                 num_fc_layers=2, hidden_units=128, kernel_size=(3, 3), pool_size=(2, 2), nonlin=nn.ReLU,\n",
    "                 dropout_rate=0.2, stride=1, padding=2)\n",
    "    # Determine the appropriate device based on GPU availability\n",
    "    device = torch.device(\"cuda\" if torch.cuda.is_available() else \"cpu\")\n",
    "    model.to(device)  # Move the model to the selected device\n",
    "    # model = torch.compile(model)\n",
    "\n",
    "    # Set up the optimizer with specified parameters\n",
    "    optimizer = optim.AdamW(model.parameters(), lr=lr)\n",
    "    # Define the learning rate scheduler\n",
    "    scheduler = optim.lr_scheduler.ExponentialLR(optimizer, gamma=0.9)\n",
    "    # Set the loss function for training and validation\n",
    "    criterion = nn.CrossEntropyLoss()\n",
    "\n",
    "    # Initialize the Trainer and train the model\n",
    "    if Oscillation_mechanism_flag == \"12\":\n",
    "        trainer = Trainer(model, device, trainloader1, valloader2, optimizer, scheduler, criterion)\n",
    "    elif Oscillation_mechanism_flag == \"21\":\n",
    "        trainer = Trainer(model, device, trainloader2, valloader1, optimizer, scheduler, criterion)\n",
    "    elif Oscillation_mechanism_flag == \"11\":\n",
    "        trainer = Trainer(model, device, trainloader1, valloader1, optimizer, scheduler, criterion)\n",
    "    elif Oscillation_mechanism_flag == \"22\":\n",
    "        trainer = Trainer(model, device, trainloader2, valloader2, optimizer, scheduler, criterion)\n",
    "    elif Oscillation_mechanism_flag == \"all\":\n",
    "        trainer = Trainer(model, device, trainloader, valloader, optimizer, scheduler, criterion)\n",
    "    elif Oscillation_mechanism_flag == \"all1\":\n",
    "        trainer = Trainer(model, device, trainloader, valloader1, optimizer, scheduler, criterion)\n",
    "    elif Oscillation_mechanism_flag == \"all2\":\n",
    "        trainer = Trainer(model, device, trainloader, valloader2, optimizer, scheduler, criterion)    \n",
    "    else:\n",
    "        warnings.warn(\"Oscillation_mechanism_flag does not match any expected value, Please enter appropriate values, such as 12, 21, 11, 22, all, all1, all2!\")\n",
    "        \n",
    "    train_accuracies, val_accuracies, Performance_metrics, cm = trainer.fit(epochs)\n",
    "    \n",
    "    # Ensure the directory for saving models exists\n",
    "    model_save_dir = \"./models\"\n",
    "    os.makedirs(model_save_dir, exist_ok=True)\n",
    "\n",
    "    # Save the trained model's state dictionary\n",
    "    torch.save(model.state_dict(), os.path.join(model_save_dir, \"CNN_model.pth\"))\n",
    "\n",
    "    # Evaluate the time taken to evaluate the original model\n",
    "    model.eval()\n",
    "    start_time = time.time()\n",
    "    with torch.no_grad():\n",
    "        for images, labels in valloader1:\n",
    "            # Reshape images and move them and labels to the selected device\n",
    "            images, labels = images.to(device), labels.to(device)\n",
    "            output = model(images)\n",
    "    original_time = time.time() - start_time  # Calculate the total evaluation time\n",
    "\n",
    "    # Print the results summary\n",
    "    print(f\"CNN Model Evaluation Time: {original_time:.4f} seconds\")\n",
    "    # print(f\"Train Accuracies: {train_accuracies}\")\n",
    "    # print(f\"Validation Accuracies: {val_accuracies}\")\n",
    "    if plot_confusion == True:\n",
    "        class_names = [f'Label {i}' for i in range(y_classnums)]\n",
    "        fig_save_dir = \"./confusion_matrix\"\n",
    "        file_name = os.path.join(fig_save_dir, \"CNN_confusion_matrix\"+\"_\"+str(Oscillation_mechanism_flag)+\".png\")\n",
    "        file_name = None\n",
    "        plot_confusion_matrix(cm, class_names, file_name)\n",
    "    \n",
    "    wandb.finish()  # Finalize the Weights & Biases run\n",
    "    return Performance_metrics"
   ]
  },
  {
   "cell_type": "markdown",
   "id": "5d7d3742-928e-481a-8304-e8c13fec2111",
   "metadata": {},
   "source": [
    "Evaluate the model under the same oscillation mechanisms"
   ]
  },
  {
   "cell_type": "code",
   "execution_count": 8,
   "id": "7a96e788-8d16-49c1-8a21-72c7defa2f9b",
   "metadata": {
    "ExecuteTime": {
     "end_time": "2025-09-06T06:33:16.992816Z",
     "start_time": "2025-09-06T06:32:45.662462Z"
    },
    "scrolled": true
   },
   "outputs": [
    {
     "data": {
      "text/html": [
       "Tracking run with wandb version 0.17.9"
      ],
      "text/plain": [
       "<IPython.core.display.HTML object>"
      ]
     },
     "metadata": {},
     "output_type": "display_data"
    },
    {
     "data": {
      "text/html": [
       "W&B syncing is set to <code>`offline`<code> in this directory.  <br/>Run <code>`wandb online`<code> or set <code>WANDB_MODE=online<code> to enable cloud syncing."
      ],
      "text/plain": [
       "<IPython.core.display.HTML object>"
      ]
     },
     "metadata": {},
     "output_type": "display_data"
    },
    {
     "name": "stderr",
     "output_type": "stream",
     "text": [
      "Epoch 50 | Train Loss: 0.0100 | Val Accuracy: 0.99 | Val Precision: 0.99 | Val Recall: 0.99 | Val F1: 0.99: 100%|██████████████████████████████████████████████████████████████████████████████████████████████████████████████████████████████████████████████████████████████████| 50/50 [00:21<00:00,  2.33it/s]\n"
     ]
    },
    {
     "name": "stdout",
     "output_type": "stream",
     "text": [
      "CNN Model Evaluation Time: 0.0339 seconds\n"
     ]
    },
    {
     "data": {
      "image/png": "[encoded data removed]",
      "text/plain": [
       "<Figure size 900x900 with 1 Axes>"
      ]
     },
     "metadata": {},
     "output_type": "display_data"
    },
    {
     "data": {
      "application/vnd.jupyter.widget-view+json": {
       "model_id": "",
       "version_major": 2,
       "version_minor": 0
      },
      "text/plain": [
       "VBox(children=(Label(value='0.000 MB of 0.000 MB uploaded\\r'), FloatProgress(value=1.0, max=1.0)))"
      ]
     },
     "metadata": {},
     "output_type": "display_data"
    },
    {
     "data": {
      "text/html": [
       "<style>\n",
       "    table.wandb td:nth-child(1) { padding: 0 10px; text-align: left ; width: auto;} td:nth-child(2) {text-align: left ; width: 100%}\n",
       "    .wandb-row { display: flex; flex-direction: row; flex-wrap: wrap; justify-content: flex-start; width: 100% }\n",
       "    .wandb-col { display: flex; flex-direction: column; flex-basis: 100%; flex: 1; padding: 10px; }\n",
       "    </style>\n",
       "<div class=\"wandb-row\"><div class=\"wandb-col\"><h3>Run history:</h3><br/><table class=\"wandb\"><tr><td>Train Accuracy</td><td>▁▂▅▇████████████████████████████████████</td></tr><tr><td>Train Loss</td><td>█▇▅▃▂▁▁▁▁▁▁▁▁▁▁▁▁▁▁▁▁▁▁▁▁▁▁▁▁▁▁▁▁▁▁▁▁▁▁▁</td></tr><tr><td>Validation Accuracy</td><td>▁▂▄▆▇▇▇█████████████████████████████████</td></tr><tr><td>Validation F1 Score</td><td>▁▂▄▇▇███████████████████████████████████</td></tr><tr><td>Validation Loss</td><td>██▆▄▂▂▂▁▁▁▁▁▁▁▁▁▁▁▁▁▁▁▁▁▁▁▁▁▁▁▁▁▁▁▁▁▁▁▁▁</td></tr><tr><td>Validation Precision</td><td>▁▄▆▇▇███████████████████████████████████</td></tr><tr><td>Validation Recall</td><td>▁▂▄▆▇▇▇█████████████████████████████████</td></tr></table><br/></div><div class=\"wandb-col\"><h3>Run summary:</h3><br/><table class=\"wandb\"><tr><td>Train Accuracy</td><td>0.99909</td></tr><tr><td>Train Loss</td><td>0.01005</td></tr><tr><td>Validation Accuracy</td><td>98.84725</td></tr><tr><td>Validation F1 Score</td><td>98.8568</td></tr><tr><td>Validation Loss</td><td>0.03046</td></tr><tr><td>Validation Precision</td><td>98.90078</td></tr><tr><td>Validation Recall</td><td>98.85714</td></tr></table><br/></div></div>"
      ],
      "text/plain": [
       "<IPython.core.display.HTML object>"
      ]
     },
     "metadata": {},
     "output_type": "display_data"
    },
    {
     "data": {
      "text/html": [
       "You can sync this run to the cloud by running:<br/><code>wandb sync E:\\efficient-kan\\notebook\\SE_demo\\wandb\\offline-run-20250906_143841-xdo3u7zf<code>"
      ],
      "text/plain": [
       "<IPython.core.display.HTML object>"
      ]
     },
     "metadata": {},
     "output_type": "display_data"
    },
    {
     "data": {
      "text/html": [
       "Find logs at: <code>.\\wandb\\offline-run-20250906_143841-xdo3u7zf\\logs</code>"
      ],
      "text/plain": [
       "<IPython.core.display.HTML object>"
      ]
     },
     "metadata": {},
     "output_type": "display_data"
    },
    {
     "data": {
      "text/html": [
       "The new W&B backend becomes opt-out in version 0.18.0; try it out with `wandb.require(\"core\")`! See https://wandb.me/wandb-core for more information."
      ],
      "text/plain": [
       "<IPython.core.display.HTML object>"
      ]
     },
     "metadata": {},
     "output_type": "display_data"
    }
   ],
   "source": [
    "# Call the function to train and evaluate the model\n",
    "performance_metrics = train_and_validate(\n",
    "                   epochs=50, \n",
    "                   batch_size=128,\n",
    "                   lr=1e-4,\n",
    "                   test_size=0.3, \n",
    "                   Oscillation_mechanism_flag = \"11\",\n",
    "                   noisy_flag = True,\n",
    "                   desired_snr_db = np.random.randint(20, 40),\n",
    "                   plot_confusion = True)"
   ]
  },
  {
   "cell_type": "markdown",
   "id": "4fdddf1cc99b8bf7",
   "metadata": {},
   "source": [
    "Evaluate the model under the different oscillation mechanisms"
   ]
  },
  {
   "cell_type": "code",
   "execution_count": 10,
   "id": "37baf910-6b76-473f-8170-c988bbc5d1b1",
   "metadata": {
    "ExecuteTime": {
     "end_time": "2025-09-06T06:33:52.846648Z",
     "start_time": "2025-09-06T06:33:26.047871Z"
    },
    "scrolled": true
   },
   "outputs": [
    {
     "data": {
      "text/html": [
       "Tracking run with wandb version 0.17.9"
      ],
      "text/plain": [
       "<IPython.core.display.HTML object>"
      ]
     },
     "metadata": {},
     "output_type": "display_data"
    },
    {
     "data": {
      "text/html": [
       "W&B syncing is set to <code>`offline`<code> in this directory.  <br/>Run <code>`wandb online`<code> or set <code>WANDB_MODE=online<code> to enable cloud syncing."
      ],
      "text/plain": [
       "<IPython.core.display.HTML object>"
      ]
     },
     "metadata": {},
     "output_type": "display_data"
    },
    {
     "name": "stderr",
     "output_type": "stream",
     "text": [
      "Epoch 50 | Train Loss: 0.0100 | Val Accuracy: 0.34 | Val Precision: 0.52 | Val Recall: 0.34 | Val F1: 0.22: 100%|██████████████████████████████████████████████████████████████████████████████████████████████████████████████████████████████████████████████████████████████████| 50/50 [00:21<00:00,  2.34it/s]\n"
     ]
    },
    {
     "name": "stdout",
     "output_type": "stream",
     "text": [
      "CNN Model Evaluation Time: 0.0355 seconds\n"
     ]
    },
    {
     "data": {
      "image/png": "[encoded data removed]",
      "text/plain": [
       "<Figure size 900x900 with 1 Axes>"
      ]
     },
     "metadata": {},
     "output_type": "display_data"
    },
    {
     "data": {
      "application/vnd.jupyter.widget-view+json": {
       "model_id": "",
       "version_major": 2,
       "version_minor": 0
      },
      "text/plain": [
       "VBox(children=(Label(value='0.000 MB of 0.000 MB uploaded\\r'), FloatProgress(value=1.0, max=1.0)))"
      ]
     },
     "metadata": {},
     "output_type": "display_data"
    },
    {
     "data": {
      "text/html": [
       "<style>\n",
       "    table.wandb td:nth-child(1) { padding: 0 10px; text-align: left ; width: auto;} td:nth-child(2) {text-align: left ; width: 100%}\n",
       "    .wandb-row { display: flex; flex-direction: row; flex-wrap: wrap; justify-content: flex-start; width: 100% }\n",
       "    .wandb-col { display: flex; flex-direction: column; flex-basis: 100%; flex: 1; padding: 10px; }\n",
       "    </style>\n",
       "<div class=\"wandb-row\"><div class=\"wandb-col\"><h3>Run history:</h3><br/><table class=\"wandb\"><tr><td>Train Accuracy</td><td>▁▂▅▇████████████████████████████████████</td></tr><tr><td>Train Loss</td><td>█▇▅▃▂▁▁▁▁▁▁▁▁▁▁▁▁▁▁▁▁▁▁▁▁▁▁▁▁▁▁▁▁▁▁▁▁▁▁▁</td></tr><tr><td>Validation Accuracy</td><td>█▂▁▁▂▃▃▄▄▄▄▅▆▆▆▆▆▆▇▇▇▇▇█▇▇▇▇▇▇▇▇▇██▇▇█▇█</td></tr><tr><td>Validation F1 Score</td><td>▆▂▁▁▂▃▃▄▄▄▅▅▆▆▆▆▆▆▇▇▇▇▇█▇▇▇▇▇▇▇▇▇██▇▇█▇█</td></tr><tr><td>Validation Loss</td><td>▁▂▄▄▆▆▇▇▇▇▇██▇████▇█████████████████████</td></tr><tr><td>Validation Precision</td><td>▂▄▁▃▃▅▃▇▆▆▆█████████████████████████████</td></tr><tr><td>Validation Recall</td><td>▇▂▁▁▂▃▃▄▄▄▅▅▆▆▆▆▆▆▇▇▇▇▇█▇▇▇▇▇▇▇▇▇██▇▇█▇█</td></tr></table><br/></div><div class=\"wandb-col\"><h3>Run summary:</h3><br/><table class=\"wandb\"><tr><td>Train Accuracy</td><td>0.99909</td></tr><tr><td>Train Loss</td><td>0.01005</td></tr><tr><td>Validation Accuracy</td><td>33.71795</td></tr><tr><td>Validation F1 Score</td><td>21.81085</td></tr><tr><td>Validation Loss</td><td>5.41389</td></tr><tr><td>Validation Precision</td><td>51.65959</td></tr><tr><td>Validation Recall</td><td>33.80552</td></tr></table><br/></div></div>"
      ],
      "text/plain": [
       "<IPython.core.display.HTML object>"
      ]
     },
     "metadata": {},
     "output_type": "display_data"
    },
    {
     "data": {
      "text/html": [
       "You can sync this run to the cloud by running:<br/><code>wandb sync E:\\efficient-kan\\notebook\\SE_demo\\wandb\\offline-run-20250906_144429-dvm8qp5r<code>"
      ],
      "text/plain": [
       "<IPython.core.display.HTML object>"
      ]
     },
     "metadata": {},
     "output_type": "display_data"
    },
    {
     "data": {
      "text/html": [
       "Find logs at: <code>.\\wandb\\offline-run-20250906_144429-dvm8qp5r\\logs</code>"
      ],
      "text/plain": [
       "<IPython.core.display.HTML object>"
      ]
     },
     "metadata": {},
     "output_type": "display_data"
    },
    {
     "data": {
      "text/html": [
       "The new W&B backend becomes opt-out in version 0.18.0; try it out with `wandb.require(\"core\")`! See https://wandb.me/wandb-core for more information."
      ],
      "text/plain": [
       "<IPython.core.display.HTML object>"
      ]
     },
     "metadata": {},
     "output_type": "display_data"
    }
   ],
   "source": [
    "# Call the function to train and evaluate the model \n",
    "performance_metrics = train_and_validate(\n",
    "                   epochs=50, \n",
    "                   batch_size=128, \n",
    "                   lr=1e-4,\n",
    "                   test_size=0.3, \n",
    "                   Oscillation_mechanism_flag = \"12\",\n",
    "                   noisy_flag = True,\n",
    "                   desired_snr_db = np.random.randint(20, 40),\n",
    "                   plot_confusion = True)"
   ]
  },
  {
   "cell_type": "markdown",
   "id": "85fcc0f9-2c25-4cc7-a7cb-f81907405e5f",
   "metadata": {},
   "source": [
    "Evaluate the model based on training with data aggregated from both oscillation mechanisms"
   ]
  },
  {
   "cell_type": "code",
   "execution_count": 8,
   "id": "42460d94-93ba-4b1c-96d1-e54d25992014",
   "metadata": {
    "ExecuteTime": {
     "end_time": "2025-09-05T12:39:02.254915Z",
     "start_time": "2025-09-05T12:38:18.434570Z"
    },
    "scrolled": true
   },
   "outputs": [
    {
     "data": {
      "text/html": [
       "Tracking run with wandb version 0.17.9"
      ],
      "text/plain": [
       "<IPython.core.display.HTML object>"
      ]
     },
     "jetTransient": {
      "display_id": null
     },
     "metadata": {},
     "output_type": "display_data"
    },
    {
     "data": {
      "text/html": [
       "W&B syncing is set to <code>`offline`<code> in this directory.  <br/>Run <code>`wandb online`<code> or set <code>WANDB_MODE=online<code> to enable cloud syncing."
      ],
      "text/plain": [
       "<IPython.core.display.HTML object>"
      ]
     },
     "jetTransient": {
      "display_id": null
     },
     "metadata": {},
     "output_type": "display_data"
    },
    {
     "name": "stderr",
     "output_type": "stream",
     "text": [
      "Epoch 50 | Train Loss: 0.0022 | Val Accuracy: 0.99 | Val Precision: 0.99 | Val Recall: 0.99 | Val F1: 0.99: 100%|██████████| 50/50 [00:41<00:00,  1.21it/s]\n"
     ]
    },
    {
     "name": "stdout",
     "output_type": "stream",
     "text": [
      "CNN Model Evaluation Time: 0.0474 seconds\n"
     ]
    },
    {
     "data": {
      "image/png": "[encoded data removed]",
      "text/plain": [
       "<Figure size 900x900 with 1 Axes>"
      ]
     },
     "jetTransient": {
      "display_id": null
     },
     "metadata": {},
     "output_type": "display_data"
    },
    {
     "data": {
      "application/vnd.jupyter.widget-view+json": {
       "model_id": "265a95daa15145258441749fe3884fa6",
       "version_major": 2,
       "version_minor": 0
      },
      "text/plain": [
       "VBox(children=(Label(value='0.000 MB of 0.000 MB uploaded\\r'), FloatProgress(value=1.0, max=1.0)))"
      ]
     },
     "jetTransient": {
      "display_id": null
     },
     "metadata": {},
     "output_type": "display_data"
    },
    {
     "data": {
      "text/html": [
       "<style>\n",
       "    table.wandb td:nth-child(1) { padding: 0 10px; text-align: left ; width: auto;} td:nth-child(2) {text-align: left ; width: 100%}\n",
       "    .wandb-row { display: flex; flex-direction: row; flex-wrap: wrap; justify-content: flex-start; width: 100% }\n",
       "    .wandb-col { display: flex; flex-direction: column; flex-basis: 100%; flex: 1; padding: 10px; }\n",
       "    </style>\n",
       "<div class=\"wandb-row\"><div class=\"wandb-col\"><h3>Run history:</h3><br/><table class=\"wandb\"><tr><td>Train Accuracy</td><td>▁▄▇█████████████████████████████████████</td></tr><tr><td>Train Loss</td><td>█▅▃▂▁▁▁▁▁▁▁▁▁▁▁▁▁▁▁▁▁▁▁▁▁▁▁▁▁▁▁▁▁▁▁▁▁▁▁▁</td></tr><tr><td>Validation Accuracy</td><td>▁▄▆▇▇▇██████████████████████████████████</td></tr><tr><td>Validation F1 Score</td><td>▁▄▇▇▇███████████████████████████████████</td></tr><tr><td>Validation Loss</td><td>█▇▄▃▂▂▂▂▁▁▁▁▁▁▁▁▁▁▁▁▁▁▁▁▁▁▁▁▁▁▁▁▁▁▁▁▁▁▁▁</td></tr><tr><td>Validation Precision</td><td>▁▅▇▇████████████████████████████████████</td></tr><tr><td>Validation Recall</td><td>▁▄▆▇▇▇██████████████████████████████████</td></tr></table><br/></div><div class=\"wandb-col\"><h3>Run summary:</h3><br/><table class=\"wandb\"><tr><td>Train Accuracy</td><td>0.99964</td></tr><tr><td>Train Loss</td><td>0.00222</td></tr><tr><td>Validation Accuracy</td><td>98.91827</td></tr><tr><td>Validation F1 Score</td><td>98.92926</td></tr><tr><td>Validation Loss</td><td>0.04065</td></tr><tr><td>Validation Precision</td><td>98.96702</td></tr><tr><td>Validation Recall</td><td>98.92857</td></tr></table><br/></div></div>"
      ],
      "text/plain": [
       "<IPython.core.display.HTML object>"
      ]
     },
     "jetTransient": {
      "display_id": null
     },
     "metadata": {},
     "output_type": "display_data"
    },
    {
     "data": {
      "text/html": [
       "You can sync this run to the cloud by running:<br/><code>wandb sync E:\\efficient-kan\\notebook\\SE_demo\\wandb\\offline-run-20250905_203818-5cyyewah<code>"
      ],
      "text/plain": [
       "<IPython.core.display.HTML object>"
      ]
     },
     "jetTransient": {
      "display_id": null
     },
     "metadata": {},
     "output_type": "display_data"
    },
    {
     "data": {
      "text/html": [
       "Find logs at: <code>.\\wandb\\offline-run-20250905_203818-5cyyewah\\logs</code>"
      ],
      "text/plain": [
       "<IPython.core.display.HTML object>"
      ]
     },
     "jetTransient": {
      "display_id": null
     },
     "metadata": {},
     "output_type": "display_data"
    },
    {
     "data": {
      "text/html": [
       "The new W&B backend becomes opt-out in version 0.18.0; try it out with `wandb.require(\"core\")`! See https://wandb.me/wandb-core for more information."
      ],
      "text/plain": [
       "<IPython.core.display.HTML object>"
      ]
     },
     "jetTransient": {
      "display_id": null
     },
     "metadata": {},
     "output_type": "display_data"
    }
   ],
   "source": [
    "# Call the function to train and evaluate the model\n",
    "performance_metrics = train_and_validate(\n",
    "                   epochs=50, \n",
    "                   batch_size=128, \n",
    "                   lr=1e-4,\n",
    "                   test_size=0.3, \n",
    "                   Oscillation_mechanism_flag = \"all1\",\n",
    "                   noisy_flag = True,\n",
    "                   desired_snr_db = np.random.randint(20, 40),\n",
    "                   plot_confusion = True)"
   ]
  },
  {
   "cell_type": "markdown",
   "id": "b824e459-6ed8-4055-8c8c-5e9cf8dffbb4",
   "metadata": {},
   "source": [
    "References related to the open-loop modal resonance mechanism and the negative resistance mechanism are as follows:"
   ]
  },
  {
   "cell_type": "markdown",
   "id": "562fc636-4621-4d2d-9f48-882c1dcca41c",
   "metadata": {},
   "source": [
    "[1] W. Du, J. Chen, Y. Wang, and H. F. Wang, \n",
    "\"Measurement-driven source tracing of torsional subsynchronous oscillations caused by open-loop modal resonance,\" \n",
    "*IEEE Transactions on Instrumentation and Measurement*, vol. 71, pp. 1–14, 2022.\n",
    "\n",
    "[2] W. Du, X. Chen, and H. Wang, \n",
    "\"A method of open-loop modal analysis to examine the SSOs in a multi-machine power system with multiple variable-speed wind generators,\" \n",
    "*IEEE Transactions on Power Systems*, vol. 33, no. 4, pp. 4297–4307, 2017.\n",
    "\n",
    "[3] H. Liu, X. Xie, J. He, T. Xu, Z. Yu, C. Wang, and C. Zhang, \n",
    "\"Subsynchronous interaction between direct-drive PMSG based wind farms and weak AC networks,\" \n",
    "*IEEE Transactions on Power Systems*, vol. 32, no. 6, pp. 4708–4720, 2017.\n",
    "\n",
    "[4] H. Liu, X. Xie, C. Zhang, Y. Li, H. Liu, and Y. Hu, “Quantitative SSR analysis of series-compensated DFIG-based wind farms using aggregated RLC circuit model,” *IEEE Transactions on Power Systems*, vol. 32, no. 1, pp. 474–483, Jan. 2016."
   ]
  },
  {
   "cell_type": "code",
   "execution_count": null,
   "id": "6986ca1b-bef3-4e6c-b98b-8c35b63895ec",
   "metadata": {},
   "outputs": [],
   "source": []
  }
 ],
 "metadata": {
  "kernelspec": {
   "display_name": "Python 3 (ipykernel)",
   "language": "python",
   "name": "python3"
  },
  "language_info": {
   "codemirror_mode": {
    "name": "ipython",
    "version": 3
   },
   "file_extension": ".py",
   "mimetype": "text/x-python",
   "name": "python",
   "nbconvert_exporter": "python",
   "pygments_lexer": "ipython3",
   "version": "3.12.4"
  }
 },
 "nbformat": 4,
 "nbformat_minor": 5
}
